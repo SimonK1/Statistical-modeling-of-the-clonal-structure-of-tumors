{
 "cells": [
  {
   "cell_type": "code",
   "execution_count": 3,
   "metadata": {},
   "outputs": [
    {
     "name": "stdout",
     "output_type": "stream",
     "text": [
      "Using GATK jar /Users/simon/miniconda3/envs/gatk4/share/gatk4-4.3.0.0-0/gatk-package-4.3.0.0-local.jar\n",
      "Running:\n",
      "    java -Dsamjdk.use_async_io_read_samtools=false -Dsamjdk.use_async_io_write_samtools=true -Dsamjdk.use_async_io_write_tribble=false -Dsamjdk.compression_level=2 -jar /Users/simon/miniconda3/envs/gatk4/share/gatk4-4.3.0.0-0/gatk-package-4.3.0.0-local.jar HaplotypeCaller -I subset.bam -O subset_output.vcf -R subset.fa\n",
      "17:44:37.050 INFO  NativeLibraryLoader - Loading libgkl_compression.dylib from jar:file:/Users/simon/miniconda3/envs/gatk4/share/gatk4-4.3.0.0-0/gatk-package-4.3.0.0-local.jar!/com/intel/gkl/native/libgkl_compression.dylib\n",
      "17:44:37.993 INFO  HaplotypeCaller - ------------------------------------------------------------\n",
      "17:44:37.993 INFO  HaplotypeCaller - The Genome Analysis Toolkit (GATK) v4.3.0.0\n",
      "17:44:37.993 INFO  HaplotypeCaller - For support and documentation go to https://software.broadinstitute.org/gatk/\n",
      "17:44:37.994 INFO  HaplotypeCaller - Executing as simon@Simons-MacBook-Pro.local on Mac OS X v12.4 x86_64\n",
      "17:44:37.994 INFO  HaplotypeCaller - Java runtime: OpenJDK 64-Bit Server VM v11.0.15+10-LTS\n",
      "17:44:37.994 INFO  HaplotypeCaller - Start Date/Time: February 12, 2023 at 5:44:36 PM CET\n",
      "17:44:37.994 INFO  HaplotypeCaller - ------------------------------------------------------------\n",
      "17:44:37.994 INFO  HaplotypeCaller - ------------------------------------------------------------\n",
      "17:44:37.995 INFO  HaplotypeCaller - HTSJDK Version: 3.0.1\n",
      "17:44:37.995 INFO  HaplotypeCaller - Picard Version: 2.27.5\n",
      "17:44:37.995 INFO  HaplotypeCaller - Built for Spark Version: 2.4.5\n",
      "17:44:37.995 INFO  HaplotypeCaller - HTSJDK Defaults.COMPRESSION_LEVEL : 2\n",
      "17:44:37.995 INFO  HaplotypeCaller - HTSJDK Defaults.USE_ASYNC_IO_READ_FOR_SAMTOOLS : false\n",
      "17:44:37.995 INFO  HaplotypeCaller - HTSJDK Defaults.USE_ASYNC_IO_WRITE_FOR_SAMTOOLS : true\n",
      "17:44:37.995 INFO  HaplotypeCaller - HTSJDK Defaults.USE_ASYNC_IO_WRITE_FOR_TRIBBLE : false\n",
      "17:44:37.996 INFO  HaplotypeCaller - Deflater: IntelDeflater\n",
      "17:44:37.996 INFO  HaplotypeCaller - Inflater: IntelInflater\n",
      "17:44:37.996 INFO  HaplotypeCaller - GCS max retries/reopens: 20\n",
      "17:44:37.996 INFO  HaplotypeCaller - Requester pays: disabled\n",
      "17:44:37.996 INFO  HaplotypeCaller - Initializing engine\n",
      "17:44:38.003 INFO  HaplotypeCaller - Shutting down engine\n",
      "[February 12, 2023 at 5:44:38 PM CET] org.broadinstitute.hellbender.tools.walkers.haplotypecaller.HaplotypeCaller done. Elapsed time: 0.02 minutes.\n",
      "Runtime.totalMemory()=161480704\n",
      "***********************************************************************\n",
      "\n",
      "A USER ERROR has occurred: Fasta dict file file:///Users/simon/Desktop/ParserCNA/subset.dict for reference file:///Users/simon/Desktop/ParserCNA/subset.fa does not exist. Please see http://gatkforums.broadinstitute.org/discussion/1601/how-can-i-prepare-a-fasta-file-to-use-as-reference for help creating it.\n",
      "\n",
      "***********************************************************************\n",
      "Set the system property GATK_STACKTRACE_ON_USER_EXCEPTION (--java-options '-DGATK_STACKTRACE_ON_USER_EXCEPTION=true') to print the stack trace.\n"
     ]
    }
   ],
   "source": [
    "!gatk HaplotypeCaller -I subset.bam -O subset_output.vcf -R subset.fa\n"
   ]
  }
 ],
 "metadata": {
  "kernelspec": {
   "display_name": "gatk4",
   "language": "python",
   "name": "python3"
  },
  "language_info": {
   "codemirror_mode": {
    "name": "ipython",
    "version": 3
   },
   "file_extension": ".py",
   "mimetype": "text/x-python",
   "name": "python",
   "nbconvert_exporter": "python",
   "pygments_lexer": "ipython3",
   "version": "3.11.0"
  },
  "orig_nbformat": 4,
  "vscode": {
   "interpreter": {
    "hash": "a1d5a1236ce006af7b2ed205c84c8592626ffef78376c21ebd1fde3bb24ba418"
   }
  }
 },
 "nbformat": 4,
 "nbformat_minor": 2
}
